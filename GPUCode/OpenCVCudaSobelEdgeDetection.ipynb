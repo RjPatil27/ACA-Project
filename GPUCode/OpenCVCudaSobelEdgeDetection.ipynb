{
 "cells": [
  {
   "cell_type": "code",
   "execution_count": 2,
   "metadata": {},
   "outputs": [
    {
     "name": "stdout",
     "output_type": "stream",
     "text": [
      "ImageCount = 800 \n",
      "TimeRequired = 1.6938116550445557\n"
     ]
    }
   ],
   "source": [
    "import numpy as np\n",
    "import cv2 as cv\n",
    "from pathlib import Path\n",
    "import time\n",
    "\n",
    "path = Path(\".\")\n",
    "path = path.glob(\"airplanes/*.jpg\")\n",
    "\n",
    "count = 0\n",
    "totalTime = 0\n",
    "\n",
    "src = cv.cuda_GpuMat()\n",
    "\n",
    "for imagepath in path:\n",
    "\n",
    "    src_host = cv.imread(str(imagepath), cv.IMREAD_GRAYSCALE)\n",
    "    src.upload(src_host)\n",
    "\n",
    "    start_t = time.time()\n",
    "    \n",
    "    gaussian_filter = cv.cuda.createGaussianFilter(src.type(), src.type(), (3, 3), 0, cv.BORDER_DEFAULT)\n",
    "    gpu_blur = gaussian_filter.apply(src)\n",
    "\n",
    "    gradX_filter = cv.cuda.createSobelFilter(gpu_blur.type(), gpu_blur.depth(), 0, 1, 3)\n",
    "    grad_x = gradX_filter.apply(gpu_blur)\n",
    "    gradY_filter = cv.cuda.createSobelFilter(gpu_blur.type(), gpu_blur.depth(), 1, 0, 3)\n",
    "    grad_y = gradY_filter.apply(gpu_blur)\n",
    "\n",
    "    abs_grad_x = cv.cuda.abs(grad_x)\n",
    "    abs_grad_y = cv.cuda.abs(grad_y)\n",
    "\n",
    "    gpu_sobel = cv.cuda.addWeighted(abs_grad_x, 0.5, abs_grad_y, 0.5, 0)\n",
    "    \n",
    "    totalTime = totalTime + (time.time() - start_t)\n",
    "\n",
    "    # gpu_sobel = cv.cuda.add(grad_x, grad_y)\n",
    "\n",
    "    result_host = gpu_sobel.download()\n",
    "    \n",
    "    count += 1;\n",
    "#     cv.imwrite(\"output/OP\" + str(count) + \".jpg\", result_host)\n",
    "\n",
    "print(\"ImageCount =\", count, \"\\nTimeRequired =\", totalTime)\n"
   ]
  },
  {
   "cell_type": "code",
   "execution_count": null,
   "metadata": {},
   "outputs": [],
   "source": []
  }
 ],
 "metadata": {
  "kernelspec": {
   "display_name": "Python 3",
   "language": "python",
   "name": "python3"
  },
  "language_info": {
   "codemirror_mode": {
    "name": "ipython",
    "version": 3
   },
   "file_extension": ".py",
   "mimetype": "text/x-python",
   "name": "python",
   "nbconvert_exporter": "python",
   "pygments_lexer": "ipython3",
   "version": "3.8.5"
  }
 },
 "nbformat": 4,
 "nbformat_minor": 4
}
