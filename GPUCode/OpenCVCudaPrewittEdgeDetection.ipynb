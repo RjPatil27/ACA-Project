{
 "cells": [
  {
   "cell_type": "code",
   "execution_count": 28,
   "metadata": {},
   "outputs": [
    {
     "name": "stdout",
     "output_type": "stream",
     "text": [
      "ImageCount = 800 \n",
      "TimeRequired = 4.916119575500488\n"
     ]
    }
   ],
   "source": [
    "import numpy as np\n",
    "import cv2 as cv\n",
    "from pathlib import Path\n",
    "import time\n",
    "\n",
    "start_t = time.time()\n",
    "\n",
    "path = Path(\".\")\n",
    "path = path.glob(\"airplanes/*.jpg\")\n",
    "count = 0\n",
    "\n",
    "for imagepath in path:\n",
    "\n",
    "    # GRAYSCALE\n",
    "    src_host = cv.imread(str(imagepath), cv.IMREAD_GRAYSCALE)\n",
    "    src = cv.cuda_GpuMat()\n",
    "    src.upload(src_host)\n",
    "\n",
    "    gaussian_filter = cv.cuda.createGaussianFilter(src.type(), src.type(), (3, 3), 0, cv.BORDER_DEFAULT)\n",
    "    gpu_blur = gaussian_filter.apply(src)\n",
    "\n",
    "    kernel_x = np.array([[1,1,1],[0,0,0],[-1,-1,-1]])\n",
    "    kernel_y = np.array([[-1,0,1],[-1,0,1],[-1,0,1]])\n",
    "\n",
    "    img_prewittX = cv.cuda.createLinearFilter(gpu_blur.type(), gpu_blur.type(), kernel_x, (-1, -1))\n",
    "    gpu_prewittX = img_prewittX.apply(gpu_blur)\n",
    "    img_prewittY = cv.cuda.createLinearFilter(gpu_blur.type(), gpu_blur.type(), kernel_y, (-1, -1))\n",
    "    gpu_prewittY = img_prewittY.apply(gpu_blur)\n",
    "\n",
    "    # gpu_prewitt = cv.cuda.add(gpu_prewittX, gpu_prewittY)\n",
    "\n",
    "    gpu_prewitt = cv.cuda.addWeighted(gpu_prewittX, 0.5, gpu_prewittY, 0.5, 0)\n",
    "\n",
    "    result_host = gpu_prewitt.download()\n",
    "    count += 1;\n",
    "    cv.imwrite(\"output/OP\" + str(count) + \".jpg\", result_host)\n",
    "\n",
    "print(\"ImageCount =\", count, \"\\nTimeRequired =\", (time.time() - start_t))\n"
   ]
  },
  {
   "cell_type": "code",
   "execution_count": null,
   "metadata": {},
   "outputs": [],
   "source": []
  }
 ],
 "metadata": {
  "kernelspec": {
   "display_name": "Python 3",
   "language": "python",
   "name": "python3"
  },
  "language_info": {
   "codemirror_mode": {
    "name": "ipython",
    "version": 3
   },
   "file_extension": ".py",
   "mimetype": "text/x-python",
   "name": "python",
   "nbconvert_exporter": "python",
   "pygments_lexer": "ipython3",
   "version": "3.8.5"
  }
 },
 "nbformat": 4,
 "nbformat_minor": 4
}
