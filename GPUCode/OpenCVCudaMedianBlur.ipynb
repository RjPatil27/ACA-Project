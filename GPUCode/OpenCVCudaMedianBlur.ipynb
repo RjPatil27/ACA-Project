{
 "cells": [
  {
   "cell_type": "code",
   "execution_count": 2,
   "metadata": {},
   "outputs": [
    {
     "name": "stdout",
     "output_type": "stream",
     "text": [
      "ImageCount = 800 \n",
      "TimeRequired = 14.522739887237549\n"
     ]
    }
   ],
   "source": [
    "import numpy as np\n",
    "import cv2 as cv\n",
    "from pathlib import Path\n",
    "import time\n",
    "\n",
    "path = Path(\".\")\n",
    "path = path.glob(\"airplanes/*.jpg\")\n",
    "\n",
    "count = 0\n",
    "totalTime = 0\n",
    "\n",
    "src = cv.cuda_GpuMat()\n",
    "\n",
    "for imagepath in path:\n",
    "\n",
    "    src_host = cv.imread(str(imagepath), cv.IMREAD_GRAYSCALE)\n",
    "    src.upload(src_host)\n",
    "\n",
    "    start_t = time.time()\n",
    "    \n",
    "    median_filter = cv.cuda.createMedianFilter(src.type(), 13)\n",
    "    gpu_median = median_filter.apply(src)\n",
    "    \n",
    "    totalTime = totalTime + (time.time() - start_t)\n",
    "\n",
    "    result_host = gpu_median.download()\n",
    "    \n",
    "    count += 1;\n",
    "    \n",
    "#     cv.imwrite(\"output/OP\" + str(count) + \".jpg\", result_host)\n",
    "\n",
    "print(\"ImageCount =\", count, \"\\nTimeRequired =\", totalTime)\n"
   ]
  },
  {
   "cell_type": "code",
   "execution_count": null,
   "metadata": {},
   "outputs": [],
   "source": []
  }
 ],
 "metadata": {
  "kernelspec": {
   "display_name": "Python 3",
   "language": "python",
   "name": "python3"
  },
  "language_info": {
   "codemirror_mode": {
    "name": "ipython",
    "version": 3
   },
   "file_extension": ".py",
   "mimetype": "text/x-python",
   "name": "python",
   "nbconvert_exporter": "python",
   "pygments_lexer": "ipython3",
   "version": "3.8.5"
  }
 },
 "nbformat": 4,
 "nbformat_minor": 4
}
